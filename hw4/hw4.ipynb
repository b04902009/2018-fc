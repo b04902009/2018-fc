{
 "cells": [
  {
   "cell_type": "markdown",
   "metadata": {},
   "source": [
    "## HW4\n",
    "Write a program to price European put options based on the GARCH model (Ritchken-Trevor algorithm).\n",
    "\n",
    "- Inputs:\n",
    "    - E (days before expiration)\n",
    "    - r (%) (interest rate)\n",
    "    - S0 (stock price at time 0)\n",
    "    - h0, b0, b1, b2, c\n",
    "    - X (strike price)\n",
    "    - n1 (number of partitions per day)\n",
    "    - n2 (number of variances per node)\n",
    "\n",
    "- Output: price\n",
    "\n",
    "> E = 30, r (%) = 5, S0 = 100  \n",
    "> h0 = 0.010469, b0 = 0.000006575, b1 = 0.9, b2 = 0.04, c = 0  \n",
    "> X = 100, n1 = 3, n2 = 3  \n",
    "\n",
    "> Option price: about 2.0163"
   ]
  },
  {
   "cell_type": "markdown",
   "metadata": {},
   "source": [
    "### GARCH Option Pricing\n",
    "$$\\ln \\frac{S_{t+1}}{S_t} = r - \\frac{h_t^2}{2} + h_t\\epsilon_{t+1}$$\n",
    "With $y_t \\triangleq \\ln S_t$,\n",
    "$$y_{t+1} = y_t+ r - \\frac{h_t^2}{2} + h_t\\epsilon_{t+1}$$\n",
    "where\n",
    "$$h_{t+1}^2 = \\beta_0 + \\beta_1h_t^2+\\beta_2h^2_t(\\epsilon_{t+1}-c)^2$$\n",
    "$$\\epsilon \\sim N(0,1) \\text{ given information at date }t$$\n",
    "$$r = \\text{ daily riskless return}$$\n",
    "$$c \\geq 0$$"
   ]
  },
  {
   "cell_type": "code",
   "execution_count": 1,
   "metadata": {},
   "outputs": [],
   "source": [
    "# import numpy as np\n",
    "# days = 30   # days before expiration\n",
    "# ar = 5   # annual interest rate\n",
    "# S0 = 100\n",
    "# h0 = 0.010469\n",
    "# b0 = 0.000006575\n",
    "# b1 = 0.9\n",
    "# b2 = 0.04\n",
    "# c = 0\n",
    "# X = 100\n",
    "# n_part = 3  # number of partitions per day\n",
    "# n_var = 3   # number of variances per node"
   ]
  },
  {
   "cell_type": "code",
   "execution_count": 2,
   "metadata": {},
   "outputs": [
    {
     "name": "stdout",
     "output_type": "stream",
     "text": [
      "Days before expiration: 30\n",
      "Annual interest rate (%): 5\n",
      "Stock price at time 0: 100\n",
      "h0: 0.010469\n",
      "b0: 0.000006575\n",
      "b1: 0.9\n",
      "b2: 0.04\n",
      "c: 0\n",
      "Strike price: 100\n",
      "Number of partitions per day: 3\n",
      "Number of variances per node: 3\n"
     ]
    }
   ],
   "source": [
    "import numpy as np\n",
    "days = input(\"Days before expiration: \")\n",
    "ar = input(\"Annual interest rate (%): \")\n",
    "S0 = input(\"Stock price at time 0: \")\n",
    "h0 = input(\"h0: \")\n",
    "b0 = input(\"b0: \")\n",
    "b1 = input(\"b1: \")\n",
    "b2 = input(\"b2: \")\n",
    "c = input(\"c: \")\n",
    "X = input(\"Strike price: \")\n",
    "n_part = input(\"Number of partitions per day: \")\n",
    "n_var = input(\"Number of variances per node: \")"
   ]
  },
  {
   "cell_type": "markdown",
   "metadata": {},
   "source": [
    "### The Ritchken-Trevor (RT) Algorithm\n",
    "- Partition a day into $n$ periods.\n",
    "- Three states follow each state $(y_t, h^2_t)$ after a period. \n",
    "- Define $\\gamma\\triangleq h_0$,\n",
    "$$\\gamma_n \\triangleq \\frac{\\gamma}{\\sqrt{n}}$$\n",
    "- Jump size $$\\eta\\gamma_n$$\n",
    "\n",
    "- A few nodes may have multiple jump sizes because more than one paths can reach those node.\n",
    "- Each node on the tree contains only two states $(y_t, h^2_{max})$ and $(y_t, h^2_{min})$, and each state carries its own $\\eta$ and set of $2n + 1$ branching probabilities."
   ]
  },
  {
   "cell_type": "code",
   "execution_count": 3,
   "metadata": {},
   "outputs": [],
   "source": [
    "ar /= 100.\n",
    "r = ar / 365 # daily interest rate\n",
    "gamma = h0\n",
    "gamma_n = h0 / (n_part**0.5)\n",
    "branches = 2 * n_part + 1\n",
    "\n",
    "# Probability Table\n",
    "P = [{} for _ in range(days)]\n",
    "\n",
    "# Eta Table\n",
    "E  = [{} for _ in range(days)]\n",
    "\n",
    "# Variance Table\n",
    "H2  = [{} for _ in range(days+1)]\n",
    "H2[0][0] = [h0**2]*n_var\n",
    "    # H2[i][j][0] = h^2_{min} (i,j)\n",
    "    # H2[i][j][n_var-1] = h^2_{max} (i,j)"
   ]
  },
  {
   "cell_type": "markdown",
   "metadata": {},
   "source": [
    "### Eta\n",
    "- The necessary requirement $p_m \\geq 0$ implies $\\eta \\geq h_t/\\gamma$\n",
    "- Different conditional variances $h^2_t$ may require different $\\eta$, hence we try \n",
    "$$\\eta = \\lceil h_t/\\gamma\\rceil, \\lceil h_t/\\gamma\\rceil+1,\\lceil h_t/\\gamma\\rceil+2,...$$\n",
    "until valid probabilities are obtained or until their\n",
    "nonexistence is confirmed.\n",
    "- The sufficient and necessary condition for valid probabilities to exist is $$\\frac{\\mid r-(h_t^2/2)\\mid}{2\\eta\\gamma\\sqrt{n}} \\leq \\frac{h_t^2}{2\\eta^2\\gamma^2} \\leq \\min\\Big(1-\\frac{\\mid r-(h_t^2/2)\\mid}{2\\eta\\gamma\\sqrt{n}}, \\frac{1}{2}\\Big)$$"
   ]
  },
  {
   "cell_type": "code",
   "execution_count": 4,
   "metadata": {},
   "outputs": [],
   "source": [
    "def compute_eta(h2_t):\n",
    "    eta = int(np.ceil((h2_t ** 0.5) / gamma))\n",
    "    while True:\n",
    "        lower_bound = abs(r - (h2_t/2)) / (2 * eta * gamma * n_part**0.5)\n",
    "        middle = h2_t / (2 * eta**2 * gamma**2)\n",
    "        upper_bound = min(1 - abs(r - (h2_t/2)) / (2 * eta * gamma * n_part**0.5), 0.5)\n",
    "        if lower_bound <= middle and middle <= upper_bound: \n",
    "            return eta\n",
    "        else:\n",
    "            eta += 1"
   ]
  },
  {
   "cell_type": "markdown",
   "metadata": {},
   "source": [
    "### Probability\n",
    "$$p_u = \\frac{h_t^2}{2\\eta^2\\gamma^2}+\\frac{r-(h_t^2/2)}{2\\eta\\gamma\\sqrt{n}}$$   $$p_m = 1-\\frac{h_t^2}{\\eta^2\\gamma^2}$$\n",
    "$$p_d = \\frac{h_t^2}{2\\eta^2\\gamma^2}-\\frac{r-(h_t^2/2)}{2\\eta\\gamma\\sqrt{n}}$$\n",
    "- $l$:  the number of up moves must exceed that of down moves\n",
    "    - $-n \\leq l \\leq n$\n",
    "    - $y_{t+1}=y_t+l\\eta\\gamma_n$\n",
    "    - The probability\n",
    "        $$P(l) \\triangleq \\sum\\limits_{j_u, j_m, j_d}\\frac{n!}{j_u! j_m! j_d!}p_u^{j_u}p_m^{j_m}p_d^{j_d}$$\n",
    "        with $j_u, j_m, j_d \\geq 0, m = j_u+j_m+j_d \\text{ and } l = j_u -j_d$\n",
    "- Calculate $P(l)$\n",
    "$$(p_ux+p_m+\\frac{P_d}{x})^n = \\sum\\limits_{l=-n}^{n}P(l)x^l$$\n",
    "$$\\Rightarrow (p_ux^2+p_mx+P_d)^n = \\sum\\limits_{l=-n}^{n}P(l)x^{l+n} = \\sum\\limits_{l=0}^{2n}P(l)x^{l}$$"
   ]
  },
  {
   "cell_type": "code",
   "execution_count": 5,
   "metadata": {},
   "outputs": [],
   "source": [
    "def compute_P(h2_t, eta, P, i, j, k):\n",
    "    pu = h2_t / (2 * eta**2 * gamma**2) + (r - (h2_t/2)) / (2 * eta * gamma * n_part**0.5)\n",
    "    pd = h2_t / (2 * eta**2 * gamma**2) - (r - (h2_t/2)) / (2 * eta * gamma * n_part**0.5)\n",
    "    pm = 1 - h2_t / (eta**2 * gamma**2)\n",
    "    \n",
    "    c = np.polynomial.polynomial.polypow([pd, pm, pu], n_part) # (coefficient: low->high, power)\n",
    "    for l in range(branches):\n",
    "        P[i][j][k][l] = c[l]"
   ]
  },
  {
   "cell_type": "markdown",
   "metadata": {},
   "source": [
    "### Variance\n",
    "- The logarithmic price $y_t + l\\eta\\gamma n$ at date $t+1$ following state $(y_t, h^2_t)$ is associated with the variance\n",
    "$$h_{t+1}^2 = \\beta_0 + \\beta_1h_t^2+\\beta_2h^2_t(\\epsilon'_{t+1}-c)^2$$\n",
    "where $$\\epsilon'_{t+1} = \\frac{l\\eta\\gamma_n-(r-h_t^2/2)}{h_t}, l = 0, \\pm 1, \\pm 2,...\\pm n$$\n",
    "\n",
    "\n",
    "     \n",
    "- Besides the minimum and maximum variances, the other K − 2 variances in between are linearly interpolated.\n",
    "- In general, the $k$th variance at node $(i, j)$ is\n",
    "$$h^2_{min}(i,j)+k\\frac{h^2_{max}(i,j)-h^2_{min}(i,j)}{K-1}, k = 0, 1, ..., K-1$$"
   ]
  },
  {
   "cell_type": "code",
   "execution_count": 6,
   "metadata": {},
   "outputs": [],
   "source": [
    "def compute_max_min_var(h2_cur, eta, H2, i_next):\n",
    "    for l in range(-n_part, n_part+1):\n",
    "        epsilon =  (l * eta * gamma_n - (r - h2_cur / 2))  / (h2_cur ** 0.5)\n",
    "        h2_next = b0 + b1 * h2_cur + b2 * h2_cur * (epsilon - c)**2\n",
    "        j_next = j + l * eta\n",
    "        if H2[i_next].has_key(j_next):\n",
    "            H2[i_next][j_next][0] = min(H2[i_next][j_next][0], h2_next)\n",
    "            H2[i_next][j_next][-1] = max(H2[i_next][j_next][-1], h2_next)\n",
    "        else:\n",
    "            H2[i_next][j_next] = [h2_next]*n_part\n",
    "            \n",
    "def compute_interpolation_var(H2, next_i):\n",
    "    for j in  sorted(H2[next_i].keys()):\n",
    "        h2_min = H2[next_i][j][0]\n",
    "        h2_max = H2[next_i][j][-1]\n",
    "        for k in range(n_var):\n",
    "            H2[next_i][j][k] = h2_min + k * (h2_max - h2_min) / (n_var -1)"
   ]
  },
  {
   "cell_type": "markdown",
   "metadata": {},
   "source": [
    "### Build RT Tree\n",
    "- $\\eta$ tree: ```E[days][keys][n_var]```\n",
    "- $p$ tree: ```P[days][keys][n_var][branches]```\n",
    "- $h^2$ tree: ```H2[days][keys][n_var]```"
   ]
  },
  {
   "cell_type": "code",
   "execution_count": 7,
   "metadata": {},
   "outputs": [],
   "source": [
    "for i in range(days):\n",
    "    for j in sorted(H2[i].keys()): \n",
    "        E[i][j] = [0] * n_var\n",
    "        P[i][j] = [[0]*branches for _ in range(n_var)]\n",
    "        for k in range(n_var):\n",
    "            h2_cur = H2[i][j][k]\n",
    "            eta = compute_eta(h2_cur)\n",
    "            E[i][j][k] = eta\n",
    "            compute_P(h2_cur, eta, P, i, j, k)\n",
    "            # compute variance of day i+1 with variance of day i\n",
    "            compute_max_min_var(h2_cur, eta, H2, i+1)\n",
    "    # Interpolation\n",
    "    compute_interpolation_var(H2, i+1)"
   ]
  },
  {
   "cell_type": "markdown",
   "metadata": {},
   "source": [
    "### Put Option Price at expiration\n",
    "- Stock price at day i  \n",
    "$y(i,j) = y(0,0)+\\gamma_nj$  \n",
    "$\\Rightarrow S(i,j) = S(0,0) e^{\\gamma_nj}$\n",
    "- Put Price Table: ```PP[days][keys][n_var]```"
   ]
  },
  {
   "cell_type": "code",
   "execution_count": 8,
   "metadata": {},
   "outputs": [],
   "source": [
    "PP = [{} for _ in range(days+1)] # Put Price\n",
    "for i in range(days+1):\n",
    "    for j in sorted(H2[days].keys()):\n",
    "        PP[i][j] = [max(X - S0 * np.exp(gamma_n * j), 0)] *n_var"
   ]
  },
  {
   "cell_type": "markdown",
   "metadata": {},
   "source": [
    "### Option price - Interpolation \n",
    "- If the updated variance falls strictly between $h^2_{max}$ and $h^2_{min}$, use an interpolation to compute the corresponding option price.\n",
    "- A variance following an interpolated variance may exceed the maximum variance or be exceeded by the minimum variance. When this happens, the option price corresponding to the maximum or minimum variance will be used during backward induction."
   ]
  },
  {
   "cell_type": "code",
   "execution_count": 9,
   "metadata": {},
   "outputs": [],
   "source": [
    "def compute_interpolation_price(next_i, next_j, h2_cur):\n",
    "    # Next h^2\n",
    "    epsilon =  (l * eta * gamma_n - (r - h2_cur / 2))  / (h2_cur ** 0.5)\n",
    "    h2_next = b0 + b1 * h2_cur + b2 * h2_cur * (epsilon - c)**2\n",
    "    if h2_next >  H2[next_i][next_j][-1]:  # > h^2_{max}\n",
    "         return PP[next_i][next_j][-1]\n",
    "    if h2_next < H2[next_i][next_j][0]:   # < h^2_{min}\n",
    "        return PP[next_i][next_j][0]\n",
    "    for next_k in range(n_var-1):\n",
    "        h2_lower = H2[next_i][next_j][next_k] \n",
    "        h2_upper = H2[next_i][next_j][next_k+1]\n",
    "        if h2_next >= h2_lower and h2_next <= h2_upper:\n",
    "            if h2_lower == h2_upper:\n",
    "                return PP[next_i][next_j][next_k]\n",
    "            x = (h2_next - h2_lower) / (h2_upper - h2_lower)\n",
    "            return (1-x) * PP[next_i][next_j][next_k] + x * PP[next_i][next_j][next_k+1]"
   ]
  },
  {
   "cell_type": "markdown",
   "metadata": {},
   "source": [
    "### Backward Induction\n",
    "$$Price(i, j, k) = \\frac{\\sum\\limits_{l=-n}^{n}P(i,j,k,l)*Price(i+1, j+l\\eta, k')}{e^r}$$\n",
    "where $k'$ is computed by an interpolation between the two closest options."
   ]
  },
  {
   "cell_type": "code",
   "execution_count": 10,
   "metadata": {},
   "outputs": [
    {
     "name": "stdout",
     "output_type": "stream",
     "text": [
      "Put option price:  2.0162922629275823\n"
     ]
    }
   ],
   "source": [
    "for i in range(days-1, -1, -1):\n",
    "    for j in  sorted(H2[i].keys()):\n",
    "        for k in range(n_var):\n",
    "            eta = E[i][j][k]\n",
    "            h2_cur = H2[i][j][k]\n",
    "            put = 0\n",
    "            for l in range(-n_part, n_part+1): # branches\n",
    "                prob = P[i][j][k][l+n_part]\n",
    "                next_j = j + eta * l\n",
    "                price = compute_interpolation_price(i+1, next_j, h2_cur)\n",
    "                put += price * P[i][j][k][l+n_part]\n",
    "                    \n",
    "            PP[i][j][k] = max(put/np.exp(r), 0)\n",
    "    \n",
    "    \n",
    "print 'Put option price: ', PP[0][0][0]"
   ]
  }
 ],
 "metadata": {
  "kernelspec": {
   "display_name": "Python 2",
   "language": "python",
   "name": "python2"
  },
  "language_info": {
   "codemirror_mode": {
    "name": "ipython",
    "version": 2
   },
   "file_extension": ".py",
   "mimetype": "text/x-python",
   "name": "python",
   "nbconvert_exporter": "python",
   "pygments_lexer": "ipython2",
   "version": "2.7.14"
  }
 },
 "nbformat": 4,
 "nbformat_minor": 2
}
