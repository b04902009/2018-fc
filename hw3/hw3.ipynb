{
 "cells": [
  {
   "cell_type": "code",
   "execution_count": 1,
   "metadata": {},
   "outputs": [],
   "source": [
    "import numpy as np\n",
    "from time import time\n",
    "t0 = time()"
   ]
  },
  {
   "cell_type": "markdown",
   "metadata": {},
   "source": [
    "## Parameters"
   ]
  },
  {
   "cell_type": "code",
   "execution_count": 2,
   "metadata": {},
   "outputs": [
    {
     "name": "stdout",
     "output_type": "stream",
     "text": [
      "Stock price: 100\n",
      "Strike price: 100\n",
      "Matuirty in years: 1\n",
      "Annual volatility: 0.3\n",
      "Annual interest rate: 0.05\n",
      "Number of periods: 100\n",
      "Number of simulation paths: 100000\n"
     ]
    }
   ],
   "source": [
    "S = input(\"Stock price: \")\n",
    "X = input(\"Strike price: \")\n",
    "T = input(\"Matuirty in years: \")\n",
    "s = input(\"Annual volatility: \")\n",
    "r = input(\"Annual interest rate: \")\n",
    "n = input(\"Number of periods: \")\n",
    "k = input(\"Number of simulation paths: \")\n",
    "dt = float(T) / n\n",
    "R = np.exp(r*dt)"
   ]
  },
  {
   "cell_type": "code",
   "execution_count": 3,
   "metadata": {},
   "outputs": [],
   "source": [
    "# S = 100\n",
    "# X = 100\n",
    "# T = 1\n",
    "# s = 0.3\n",
    "# r = 0.05\n",
    "# n = 100\n",
    "# k = 100000\n",
    "# dt = float(T) / n\n",
    "# R = np.exp(r*dt)"
   ]
  },
  {
   "cell_type": "markdown",
   "metadata": {},
   "source": [
    "## Create Stock price table & Exercise value table & Cash flow table\n",
    "$S_{i+1} = S_i e^{(r-\\sigma^2/2)\\Delta t +\\sigma\\sqrt{\\Delta t}\\space\\xi}$"
   ]
  },
  {
   "cell_type": "code",
   "execution_count": 4,
   "metadata": {},
   "outputs": [],
   "source": [
    "# Stock price table\n",
    "P = np.zeros((k, n+1))\n",
    "P[:, 0] = S\n",
    "for j in range(1, n+1):\n",
    "    power = s * np.sqrt(dt) * np.random.standard_normal(k) + (r-s*s/2) * dt\n",
    "    P[:, j] = P[:, j-1] * np.exp(power)\n",
    "\n",
    "total = np.zeros(k)\n",
    "for j in range(n+1):\n",
    "    total += P[:, j]\n",
    "    P[:, j] = total / (j+1)\n",
    "    \n",
    "# Exercise value table\n",
    "E = np.where(P < X, X - P, 0)"
   ]
  },
  {
   "cell_type": "markdown",
   "metadata": {},
   "source": [
    "## Create cash flow table (Backward induction)"
   ]
  },
  {
   "cell_type": "code",
   "execution_count": 5,
   "metadata": {},
   "outputs": [],
   "source": [
    "# Cash flow table\n",
    "CF = E[:, n]\n",
    "\n",
    "for j in range(n-1, 0, -1):\n",
    "    # Discount\n",
    "    CF /= R\n",
    "    \n",
    "    # Continuation value\n",
    "    path = E[:, j] > 0\n",
    "    x = P[path, j]\n",
    "    if len(x) == 0:\n",
    "        continue\n",
    "    y = CF[path]\n",
    "    coefficient = np.polyfit(x, y, 2) # Least-Square Sum\n",
    "    Continue = np.polyval(coefficient, x)\n",
    "    \n",
    "    # Exercise value\n",
    "    Exercise = E[path, j]\n",
    "    \n",
    "    # Consider early exercise\n",
    "    CF[path] = np.where(Exercise > Continue, Exercise, CF[path])"
   ]
  },
  {
   "cell_type": "markdown",
   "metadata": {},
   "source": [
    "## Year 0\n",
    "$\\text{estimated standard error }(ESE) = \\text{sample standard deviation }(SD) / \\sqrt{\\text{number of paths }(k)}$"
   ]
  },
  {
   "cell_type": "code",
   "execution_count": 6,
   "metadata": {},
   "outputs": [
    {
     "name": "stdout",
     "output_type": "stream",
     "text": [
      "Price: 5.5675\n",
      "Standard error: 0.0252\n",
      "User time: 9.3165\n"
     ]
    }
   ],
   "source": [
    "CF /= R\n",
    "V = np.sum(CF) / k\n",
    "if V < X - S:\n",
    "    V = X - S\n",
    "sd = np.std(CF) / np.sqrt(k)\n",
    "print \"Price: %.4f\" % V\n",
    "print \"Standard error: %.4f\" % sd \n",
    "print \"User time: %.4f\" % (time()-t0)"
   ]
  },
  {
   "cell_type": "code",
   "execution_count": 7,
   "metadata": {},
   "outputs": [],
   "source": [
    "# Assume S = 100, X = 100, T = 1, r = 0.05, s = 0.30, n = 100, and k = 100000. \n",
    "# The put price is 5.5126 and its standard error is 0.0251."
   ]
  }
 ],
 "metadata": {
  "kernelspec": {
   "display_name": "Python 2",
   "language": "python",
   "name": "python2"
  },
  "language_info": {
   "codemirror_mode": {
    "name": "ipython",
    "version": 2
   },
   "file_extension": ".py",
   "mimetype": "text/x-python",
   "name": "python",
   "nbconvert_exporter": "python",
   "pygments_lexer": "ipython2",
   "version": "2.7.14"
  }
 },
 "nbformat": 4,
 "nbformat_minor": 2
}
